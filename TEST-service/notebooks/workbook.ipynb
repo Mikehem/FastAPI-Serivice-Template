{
 "cells": [
  {
   "attachments": {},
   "cell_type": "markdown",
   "metadata": {},
   "source": [
    "#test_service\n",
    "## Development Notebook\n",
    "Copyright(C), 2022 xxx Private Limited. All Rights Reserved\n",
    "Unauthorized copying of this file, via any medium is\n",
    "strictly prohibited\n",
    "\n",
    "Proprietary and confidential\n",
    "email: care@xxx.in"
   ]
  }
 ],
 "metadata": {
  "kernelspec": {
   "display_name": "slrd",
   "language": "python",
   "name": "python3"
  },
  "language_info": {
   "name": "python",
   "version": "3.8.15 (default, Nov 24 2022, 15:19:38) \n[GCC 11.2.0]"
  },
  "orig_nbformat": 4,
  "vscode": {
   "interpreter": {
    "hash": "f674459692f214cddd371a8906d8dba8e15d828e3e1b610e7f23dee3c7db89cf"
   }
  }
 },
 "nbformat": 4,
 "nbformat_minor": 2
}
